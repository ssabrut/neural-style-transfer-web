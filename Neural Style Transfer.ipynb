{
 "cells": [
  {
   "cell_type": "code",
   "execution_count": 2,
   "id": "035e9e31",
   "metadata": {},
   "outputs": [
    {
     "name": "stdout",
     "output_type": "stream",
     "text": [
      "input_1 --> [(None, None, None, 3)]\n",
      "block1_conv1 --> (None, None, None, 64)\n",
      "block1_conv2 --> (None, None, None, 64)\n",
      "block1_pool --> (None, None, None, 64)\n",
      "block2_conv1 --> (None, None, None, 128)\n",
      "block2_conv2 --> (None, None, None, 128)\n",
      "block2_pool --> (None, None, None, 128)\n",
      "block3_conv1 --> (None, None, None, 256)\n",
      "block3_conv2 --> (None, None, None, 256)\n",
      "block3_conv3 --> (None, None, None, 256)\n",
      "block3_conv4 --> (None, None, None, 256)\n",
      "block3_pool --> (None, None, None, 256)\n",
      "block4_conv1 --> (None, None, None, 512)\n",
      "block4_conv2 --> (None, None, None, 512)\n",
      "block4_conv3 --> (None, None, None, 512)\n",
      "block4_conv4 --> (None, None, None, 512)\n",
      "block4_pool --> (None, None, None, 512)\n",
      "block5_conv1 --> (None, None, None, 512)\n",
      "block5_conv2 --> (None, None, None, 512)\n",
      "block5_conv3 --> (None, None, None, 512)\n",
      "block5_conv4 --> (None, None, None, 512)\n",
      "block5_pool --> (None, None, None, 512)\n"
     ]
    }
   ],
   "source": [
    "from tensorflow.keras.applications.vgg19 import VGG19\n",
    "\n",
    "vgg = VGG19(include_top=False, weights='imagenet')\n",
    "for layer in vgg.layers:\n",
    "    print(f'{layer.name} --> {layer.output_shape}')"
   ]
  },
  {
   "cell_type": "code",
   "execution_count": null,
   "id": "3597bafb",
   "metadata": {},
   "outputs": [],
   "source": []
  }
 ],
 "metadata": {
  "kernelspec": {
   "display_name": "Python 3 (ipykernel)",
   "language": "python",
   "name": "python3"
  },
  "language_info": {
   "codemirror_mode": {
    "name": "ipython",
    "version": 3
   },
   "file_extension": ".py",
   "mimetype": "text/x-python",
   "name": "python",
   "nbconvert_exporter": "python",
   "pygments_lexer": "ipython3",
   "version": "3.8.5"
  }
 },
 "nbformat": 4,
 "nbformat_minor": 5
}
